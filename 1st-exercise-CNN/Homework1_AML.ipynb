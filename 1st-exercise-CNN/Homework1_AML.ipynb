{
  "cells": [
    {
      "cell_type": "markdown",
      "metadata": {
        "id": "c9QcGnGPdX2C"
      },
      "source": [
        "\n",
        "**Install requirements**"
      ]
    },
    {
      "cell_type": "code",
      "execution_count": 1,
      "metadata": {
        "colab": {
          "base_uri": "https://localhost:8080/"
        },
        "id": "k9O3aM3Tb28q",
        "outputId": "10115903-d2ee-45da-c44b-99a7071b155b"
      },
      "outputs": [
        {
          "name": "stdout",
          "output_type": "stream",
          "text": [
            "Requirement already satisfied: torch in /usr/local/lib/python3.10/dist-packages (2.1.0+cu118)\n",
            "Requirement already satisfied: torchvision in /usr/local/lib/python3.10/dist-packages (0.16.0+cu118)\n",
            "Requirement already satisfied: torchaudio in /usr/local/lib/python3.10/dist-packages (2.1.0+cu118)\n",
            "Requirement already satisfied: filelock in /usr/local/lib/python3.10/dist-packages (from torch) (3.12.4)\n",
            "Requirement already satisfied: typing-extensions in /usr/local/lib/python3.10/dist-packages (from torch) (4.5.0)\n",
            "Requirement already satisfied: sympy in /usr/local/lib/python3.10/dist-packages (from torch) (1.12)\n",
            "Requirement already satisfied: networkx in /usr/local/lib/python3.10/dist-packages (from torch) (3.2)\n",
            "Requirement already satisfied: jinja2 in /usr/local/lib/python3.10/dist-packages (from torch) (3.1.2)\n",
            "Requirement already satisfied: fsspec in /usr/local/lib/python3.10/dist-packages (from torch) (2023.6.0)\n",
            "Requirement already satisfied: triton==2.1.0 in /usr/local/lib/python3.10/dist-packages (from torch) (2.1.0)\n",
            "Requirement already satisfied: numpy in /usr/local/lib/python3.10/dist-packages (from torchvision) (1.23.5)\n",
            "Requirement already satisfied: requests in /usr/local/lib/python3.10/dist-packages (from torchvision) (2.31.0)\n",
            "Requirement already satisfied: pillow!=8.3.*,>=5.3.0 in /usr/local/lib/python3.10/dist-packages (from torchvision) (9.4.0)\n",
            "Requirement already satisfied: MarkupSafe>=2.0 in /usr/local/lib/python3.10/dist-packages (from jinja2->torch) (2.1.3)\n",
            "Requirement already satisfied: charset-normalizer<4,>=2 in /usr/local/lib/python3.10/dist-packages (from requests->torchvision) (3.3.1)\n",
            "Requirement already satisfied: idna<4,>=2.5 in /usr/local/lib/python3.10/dist-packages (from requests->torchvision) (3.4)\n",
            "Requirement already satisfied: urllib3<3,>=1.21.1 in /usr/local/lib/python3.10/dist-packages (from requests->torchvision) (2.0.7)\n",
            "Requirement already satisfied: certifi>=2017.4.17 in /usr/local/lib/python3.10/dist-packages (from requests->torchvision) (2023.7.22)\n",
            "Requirement already satisfied: mpmath>=0.19 in /usr/local/lib/python3.10/dist-packages (from sympy->torch) (1.3.0)\n"
          ]
        }
      ],
      "source": [
        "!pip3 install torch torchvision torchaudio"
      ]
    },
    {
      "cell_type": "code",
      "execution_count": 2,
      "metadata": {
        "colab": {
          "base_uri": "https://localhost:8080/"
        },
        "id": "qVKGznT4y4QT",
        "outputId": "3336b9c3-04b1-4b7b-f70f-60ef41d12762"
      },
      "outputs": [
        {
          "name": "stdout",
          "output_type": "stream",
          "text": [
            "Requirement already satisfied: tqdm in /usr/local/lib/python3.10/dist-packages (4.66.1)\n"
          ]
        }
      ],
      "source": [
        "!pip3 install 'tqdm'"
      ]
    },
    {
      "cell_type": "markdown",
      "metadata": {
        "id": "fo942LMOdlh4"
      },
      "source": [
        "##### **Import libraries**"
      ]
    },
    {
      "cell_type": "code",
      "execution_count": 3,
      "metadata": {
        "id": "DokFOdD1dJEl"
      },
      "outputs": [],
      "source": [
        "import os\n",
        "import logging\n",
        "\n",
        "import torch\n",
        "import torch.nn as nn\n",
        "import torch.optim as optim\n",
        "from torch.utils.data import Subset, DataLoader\n",
        "from torch.backends import cudnn\n",
        "\n",
        "import torchvision\n",
        "from torchvision import transforms\n",
        "from torchvision.models import alexnet\n",
        "\n",
        "from PIL import Image\n",
        "from tqdm import tqdm"
      ]
    },
    {
      "cell_type": "markdown",
      "metadata": {
        "id": "OIDLJuIXK_vh"
      },
      "source": [
        "##### **Set Arguments**"
      ]
    },
    {
      "cell_type": "code",
      "execution_count": 4,
      "metadata": {
        "id": "d5PkYfqfK_SA"
      },
      "outputs": [],
      "source": [
        "DEVICE = 'cuda' # 'cuda' or 'cpu'\n",
        "\n",
        "NUM_CLASSES = 102 # 101 + 1: There is am extra Background class that should be removed\n",
        "\n",
        "BATCH_SIZE = 256     # Higher batch sizes allows for larger learning rates. An empirical heuristic suggests that, when changing\n",
        "                     # the batch size, learning rate should change by the same factor to have comparable results\n",
        "\n",
        "LR = 1e-3            # The initial Learning Rate\n",
        "MOMENTUM = 0.9       # Hyperparameter for SGD, keep this at 0.9 when using SGD\n",
        "WEIGHT_DECAY = 5e-5  # Regularization, you can keep this at the default\n",
        "\n",
        "NUM_EPOCHS = 30      # Total number of training epochs (iterations over dataset)\n",
        "STEP_SIZE = 20       # How many epochs before decreasing learning rate (if using a step-down policy)\n",
        "GAMMA = 0.1          # Multiplicative factor for learning rate step-down\n",
        "\n",
        "LOG_FREQUENCY = 10"
      ]
    },
    {
      "cell_type": "markdown",
      "metadata": {
        "id": "9gwii0TBHvzh"
      },
      "source": [
        "##### **Define Data Preprocessing**"
      ]
    },
    {
      "cell_type": "code",
      "execution_count": 5,
      "metadata": {
        "id": "QUDdw4j2H0Mc"
      },
      "outputs": [],
      "source": [
        "# Define transforms for training phase\n",
        "train_transform = transforms.Compose([transforms.Resize(256),      # Resizes short size of the PIL image to 256\n",
        "                                      transforms.CenterCrop(224),  # Crops a central square patch of the image\n",
        "                                                                   # 224 because torchvision's AlexNet needs a 224x224 input!\n",
        "                                                                   # Remember this when applying different transformations, otherwise you get an error\n",
        "                                      transforms.ToTensor(), # Turn PIL Image to torch.Tensor\n",
        "                                      transforms.Normalize((0.5, 0.5, 0.5), (0.5, 0.5, 0.5)) # Normalizes tensor with mean and standard deviation\n",
        "])\n",
        "# Define transforms for the evaluation phase\n",
        "eval_transform = transforms.Compose([transforms.Resize(256),\n",
        "                                      transforms.CenterCrop(224),\n",
        "                                      transforms.ToTensor(),\n",
        "                                      transforms.Normalize((0.5, 0.5, 0.5), (0.5, 0.5, 0.5))\n",
        "])"
      ]
    },
    {
      "cell_type": "markdown",
      "metadata": {
        "id": "BKRxtg7bVhM8"
      },
      "source": [
        "This Python code is defining transformations for image data during the training and evaluation phases of a machine learning model. These transformations are often necessary to prepare the data for input into a model.\n",
        "\n",
        "The transformations are defined using the `transforms.Compose` function from the `torchvision` library, which allows multiple transformations to be chained together.\n",
        "\n",
        "In the training phase, the following transformations are applied:\n",
        "\n",
        "1. `transforms.Resize(256)`: This resizes the shortest side of the input PIL image to 256 while maintaining the aspect ratio.\n",
        "\n",
        "2. `transforms.CenterCrop(224)`: This crops a central square patch of the image of size 224x224.\n",
        "\n",
        "3. `transforms.ToTensor()`: This converts the PIL Image, which is in the range [0, 255], to a PyTorch Tensor in the range [0, 1].\n",
        "\n",
        "4. `transforms.Normalize((0.5, 0.5, 0.5), (0.5, 0.5, 0.5))`: This normalizes the tensor image with mean and standard deviation. The first tuple (0.5, 0.5, 0.5) is the mean for each channel of the image and the second tuple is the standard deviation for each channel. The normalization helps in faster and more stable training of neural networks.\n",
        "\n",
        "The same transformations are applied in the evaluation phase as well."
      ]
    },
    {
      "cell_type": "markdown",
      "metadata": {
        "id": "2qYIHPzYLY7i"
      },
      "source": [
        "##### **Prepare Dataset**"
      ]
    },
    {
      "cell_type": "code",
      "execution_count": 6,
      "metadata": {
        "id": "jxm50Cm9IBz-"
      },
      "outputs": [],
      "source": [
        "from torchvision.datasets import VisionDataset\n",
        "\n",
        "from PIL import Image\n",
        "\n",
        "import os\n",
        "import os.path\n",
        "import sys\n",
        "\n",
        "\n",
        "def pil_loader(path):\n",
        "    # open path as file to avoid ResourceWarning (https://github.com/python-pillow/Pillow/issues/835)\n",
        "    with open(path, \"rb\") as f:\n",
        "        img = Image.open(f)\n",
        "        return img.convert(\"RGB\")\n",
        "\n",
        "\n",
        "class Caltech(VisionDataset):\n",
        "    def __init__(self, root, split=\"train\", transform=None, target_transform=None):\n",
        "        super(Caltech, self).__init__(\n",
        "            root, transform=transform, target_transform=target_transform\n",
        "        )\n",
        "\n",
        "        self.split = split  # This defines the split you are going to use\n",
        "\n",
        "        \"\"\"\n",
        "        - Here you should implement the logic for reading the splits files and accessing elements\n",
        "        - If the RAM size allows it, it is faster to store all data in memory\n",
        "        - PyTorch Dataset classes use indexes to read elements\n",
        "        - You should provide a way for the __getitem__ method to access the image-label pair\n",
        "          through the index\n",
        "        - Labels should start from 0, so for Caltech you will have lables 0...100 (excluding the background class)\n",
        "        \"\"\"\n",
        "\n",
        "        def make_indexed_classes(root):\n",
        "            classes = [\n",
        "                d.name for d in os.scandir(root) if d.name != \"BACKGROUND_Google\"\n",
        "            ]\n",
        "            classes.sort()\n",
        "            class_to_idx = {classes[i]: i for i in range(len(classes))}\n",
        "            return classes, class_to_idx\n",
        "\n",
        "        # open split file\n",
        "        def make_dataset(root, split):\n",
        "            # folder structure:\n",
        "            # Caltech101/\n",
        "            #     101_ObjectCategories/\n",
        "            #         accordion/\n",
        "            #             image_0001.jpg\n",
        "            #\n",
        "            #     train.txt -> lines with structure: classname/image_xxxx.jpg\n",
        "            #     test.txt  -> lines with structure: classname/image_xxxx.jpg\n",
        "\n",
        "            with open(os.path.join(\"Caltech101\", split + \".txt\"), \"r\") as f:\n",
        "                lines = f.readlines()\n",
        "                lines = [\n",
        "                    line.strip()\n",
        "                    for line in lines\n",
        "                    if line.split(\"/\")[0] != \"BACKGROUND_Google\"\n",
        "                ]\n",
        "\n",
        "            dataset = [\n",
        "                (line.split(\"/\")[0], line.split(\"/\")[1])\n",
        "                for line in lines\n",
        "            ]\n",
        "\n",
        "            return dataset\n",
        "\n",
        "        self.classes, self.indexed_classes = make_indexed_classes(\n",
        "            root\n",
        "        )  # [classname, classname, ...], {classname:classindex, ...}\n",
        "        self.dataset = make_dataset(root, split)  # [(classindex,imagename),...]\n",
        "\n",
        "    def __getitem__(self, index):\n",
        "        \"\"\"\n",
        "        __getitem__ should access an element through its index\n",
        "        Args:\n",
        "            index (int): Index\n",
        "\n",
        "        Returns:\n",
        "            tuple: (sample, target) where target is class_index of the target class.\n",
        "        \"\"\"\n",
        "\n",
        "        # image, label = ... # Provide a way to access image and label via index\n",
        "        # Image should be a PIL Image\n",
        "        # label can be int\n",
        "\n",
        "        label, image_name = self.dataset[index]\n",
        "\n",
        "        image_path = os.path.join(self.root, label, image_name)\n",
        "\n",
        "        image = pil_loader(image_path)\n",
        "\n",
        "        # Applies preprocessing when accessing the image\n",
        "        if self.transform is not None:\n",
        "            image = self.transform(image)\n",
        "\n",
        "        return image, self.indexed_classes[label]\n",
        "\n",
        "    def __len__(self):\n",
        "        \"\"\"\n",
        "        The __len__ method returns the length of the dataset\n",
        "        It is mandatory, as this is used by several other components\n",
        "        \"\"\"\n",
        "        length = len(self.dataset)\n",
        "        return length\n"
      ]
    },
    {
      "cell_type": "markdown",
      "metadata": {
        "id": "ru1eBTC-VhM-"
      },
      "source": [
        "This Python code defines a custom dataset class named `Caltech` that inherits from the `VisionDataset` class provided by the `torchvision` library. This class is designed to handle image data from the Caltech dataset.\n",
        "\n",
        "The `pil_loader` function is a helper function that opens an image file, converts it to RGB, and returns it as a PIL Image object.\n",
        "\n",
        "The `Caltech` class has an `__init__` method that initializes the class. It takes several parameters including `root`, `split`, `transform`, and `target_transform`.\n",
        "- `root` parameter is the path to the dataset\n",
        "- `split` defines the dataset split to use (either 'train' or 'test')\n",
        "- `transform` and `target_transform` are optional callable objects that apply transformations to the images and labels\n",
        "\n",
        "The `__getitem__` method is a special method that allows the `Caltech` objects to be indexed so that they can be accessed like lists (e.g., `dataset[i]`). It takes an index and returns the corresponding image-label pair. The image is a PIL Image object and the label is an integer. If a transform was passed to the `__init__` method, it is applied to the image before it is returned.\n",
        "\n",
        "The `__len__` method is another special method that returns the number of items in the dataset. This is used by PyTorch's DataLoader among other things to manage the data loading process.\n"
      ]
    },
    {
      "cell_type": "code",
      "execution_count": 22,
      "metadata": {
        "colab": {
          "base_uri": "https://localhost:8080/"
        },
        "collapsed": true,
        "id": "QfVq_uDHLbsR",
        "outputId": "dabd8b27-eaec-4e9e-aa54-25b0353675a3"
      },
      "outputs": [
        {
          "name": "stdout",
          "output_type": "stream",
          "text": [
            "5784\n",
            "Train Dataset: 4338\n",
            "Valid Dataset: 1446\n",
            "Test Dataset: 2893\n"
          ]
        }
      ],
      "source": [
        "from sklearn.model_selection import train_test_split\n",
        "\n",
        "# Clone github repository with data\n",
        "import pathlib\n",
        "# print(pathlib.Path().resolve())\n",
        "if not os.path.isdir('./Caltech101'):\n",
        "  !git clone https://github.com/MachineLearning2020/Homework2-Caltech101.git\n",
        "  !mv 'Homework2-Caltech101' 'Caltech101'\n",
        "\n",
        "DATA_DIR = 'Caltech101/101_ObjectCategories'\n",
        "\n",
        "# Prepare Pytorch train/test Datasets\n",
        "train_dataset1 = Caltech(DATA_DIR, split='train',  transform=train_transform)\n",
        "test_dataset = Caltech(DATA_DIR, split='test', transform=eval_transform)\n",
        "\n",
        "print(len(train_dataset1))\n",
        "\n",
        "# train_indexes = [] # split the indices for your train split\n",
        "# val_indexes = []# split the indices for your val split\n",
        "\n",
        "all_indexes=range(len(train_dataset1))\n",
        "train_indexes,val_indexes = train_test_split(all_indexes,test_size=0.25,random_state=42)\n",
        "\n",
        "\n",
        "# new datatset with only images from the indexes\n",
        "train_dataset = Subset(train_dataset1, train_indexes)\n",
        "val_dataset = Subset(train_dataset1, val_indexes)\n",
        "\n",
        "# Check dataset sizes\n",
        "print('Train Dataset: {}'.format(len(train_dataset)))\n",
        "print('Valid Dataset: {}'.format(len(val_dataset)))\n",
        "print('Test Dataset: {}'.format(len(test_dataset)))"
      ]
    },
    {
      "cell_type": "markdown",
      "metadata": {
        "id": "FYEDQ7Z21ldN"
      },
      "source": [
        "##### **Prepare Dataloaders**"
      ]
    },
    {
      "cell_type": "code",
      "execution_count": 23,
      "metadata": {
        "colab": {
          "base_uri": "https://localhost:8080/"
        },
        "id": "VriRw8SI1nle",
        "outputId": "442f6e2f-1f2c-40a5-dc1c-88d8d2308c35"
      },
      "outputs": [
        {
          "name": "stderr",
          "output_type": "stream",
          "text": [
            "/usr/local/lib/python3.10/dist-packages/torch/utils/data/dataloader.py:557: UserWarning: This DataLoader will create 4 worker processes in total. Our suggested max number of worker in current system is 2, which is smaller than what this DataLoader is going to create. Please be aware that excessive worker creation might get DataLoader running slow or even freeze, lower the worker number to avoid potential slowness/freeze if necessary.\n",
            "  warnings.warn(_create_warning_msg(\n"
          ]
        }
      ],
      "source": [
        "# Dataloaders iterate over pytorch datasets and transparently provide useful functions (e.g. parallelization and shuffling)\n",
        "train_dataloader = DataLoader(train_dataset, batch_size=BATCH_SIZE, shuffle=True, num_workers=4, drop_last=True)\n",
        "val_dataloader = DataLoader(val_dataset, batch_size=BATCH_SIZE, shuffle=False, num_workers=4)\n",
        "test_dataloader = DataLoader(test_dataset, batch_size=BATCH_SIZE, shuffle=False, num_workers=4)"
      ]
    },
    {
      "cell_type": "markdown",
      "metadata": {
        "id": "QvWlp5tvVhM_"
      },
      "source": [
        "Creating DataLoader objects for training, validation, and testing datasets. DataLoader is a utility class in PyTorch that helps manage the loading and batching of data.\n",
        "\n",
        "Breakdown of the parameters used:\n",
        "\n",
        "1. `train_dataset`, `val_dataset`, `test_dataset`: These are the dataset objects that you want to load. They should be instances of a class that implements the PyTorch Dataset interface.\n",
        "\n",
        "2. `batch_size=BATCH_SIZE`: This specifies the number of samples per batch. Batching is a common technique used to train models more efficiently.\n",
        "\n",
        "3. `shuffle=True` for `train_dataloader`: This indicates whether the data should be shuffled at every epoch. Shuffling is often used during training to ensure that the model doesn't learn anything from the order of the samples. For validation and test datasets, shuffling is usually not necessary.\n",
        "\n",
        "4. `num_workers=4`: This specifies the number of subprocesses to use for data loading. The more workers, the faster your data can be loaded into memory, up to the limit of your system's capabilities. More workers also mean more memory usage.\n",
        "\n",
        "5. `drop_last=True` for `train_dataloader`: This is an optional argument that specifies whether the last incomplete batch should be dropped if the dataset size is not divisible by the batch size. This is typically set to `True` for training data but not for validation or testing data.\n",
        "\n"
      ]
    },
    {
      "cell_type": "markdown",
      "metadata": {
        "id": "gbZ1t5Qs2z4j"
      },
      "source": [
        "##### **Prepare Network**"
      ]
    },
    {
      "cell_type": "code",
      "execution_count": 9,
      "metadata": {
        "id": "exHUjtXa22DN"
      },
      "outputs": [],
      "source": [
        "net = alexnet() # Loading AlexNet model\n",
        "\n",
        "# AlexNet has 1000 output neurons, corresponding to the 1000 ImageNet's classes\n",
        "# We need 101 outputs for Caltech-101\n",
        "net.classifier[6] = nn.Linear(4096, NUM_CLASSES) # nn.Linear in pytorch is a fully connected layer\n",
        "                                                 # The convolutional layer is nn.Conv2d\n",
        "\n",
        "# We just changed the last layer of AlexNet with a new fully connected layer with 101 outputs\n",
        "# It is strongly suggested to study torchvision.models.alexnet source code\n",
        "\n",
        "print(net)"
      ]
    },
    {
      "cell_type": "markdown",
      "metadata": {
        "id": "Q5x8xP2wVhNA"
      },
      "source": [
        "AlexNet was originally designed for the ImageNet competition, which has 1000 classes, but in this case, the model is being adapted for the Caltech-101 dataset, which has 101 classes.\n",
        "\n",
        "Breakdown of the code: `net.classifier[6] = nn.Linear(4096, NUM_CLASSES)`:\n",
        "\n",
        "AlexNet is composed of a features section (convolutional layers) and a classifier section (fully connected layers).\n",
        "\n",
        "The classifier section is a sequential container of modules, and the 6th module in the classifier section is the final fully connected layer.\n",
        "\n",
        "This line replaces the final fully connected layer with a new one. The new layer has 4096 inputs (to match the output of the previous layer in AlexNet) and `NUM_CLASSES` outputs.\n"
      ]
    },
    {
      "cell_type": "markdown",
      "metadata": {
        "id": "KEyL3H_R4qCf"
      },
      "source": [
        "##### **Prepare Training**"
      ]
    },
    {
      "cell_type": "code",
      "execution_count": 10,
      "metadata": {
        "colab": {
          "base_uri": "https://localhost:8080/"
        },
        "id": "9sjq00G94tSc",
        "outputId": "3ea7eaa7-9655-4461-f90b-e3de223f4ad9"
      },
      "outputs": [
        {
          "name": "stdout",
          "output_type": "stream",
          "text": [
            "16\n"
          ]
        }
      ],
      "source": [
        "# Define loss function\n",
        "criterion = nn.CrossEntropyLoss() # for classification, we use Cross Entropy\n",
        "\n",
        "# Choose parameters to optimize\n",
        "# To access a different set of parameters, you have to access submodules of AlexNet\n",
        "# (nn.Module objects, like AlexNet, implement the Composite Pattern)\n",
        "# e.g.: parameters of the fully connected layers: net.classifier.parameters()\n",
        "# e.g.: parameters of the convolutional layers: look at alexnet's source code ;)\n",
        "parameters_to_optimize = net.parameters() # In this case we optimize over all the parameters of AlexNet\n",
        "\n",
        "# Define optimizer\n",
        "# An optimizer updates the weights based on loss\n",
        "# We use SGD with momentum\n",
        "optimizer = optim.SGD(parameters_to_optimize, lr=LR, momentum=MOMENTUM, weight_decay=WEIGHT_DECAY)\n",
        "\n",
        "# Define scheduler\n",
        "# A scheduler dynamically changes learning rate\n",
        "# The most common schedule is the step(-down), which multiplies learning rate by gamma every STEP_SIZE epochs\n",
        "scheduler = optim.lr_scheduler.StepLR(optimizer, step_size=STEP_SIZE, gamma=GAMMA)\n",
        "print(len(train_dataloader))"
      ]
    },
    {
      "cell_type": "markdown",
      "metadata": {
        "id": "biJVC985VhNB"
      },
      "source": [
        "Part of a machine learning pipeline using the PyTorch library. It's setting up the loss function, optimizer, and learning rate scheduler for training a neural network model.\n",
        "\n",
        "Breakdown of the code:\n",
        "\n",
        "1. `criterion = nn.CrossEntropyLoss()`: This line defines the loss function to be used during training. Cross entropy loss is commonly used for classification tasks.\n",
        "\n",
        "2. `parameters_to_optimize = net.parameters()`: This line specifies which parameters of the model should be updated during training. In this case, all parameters of the model are being optimized.\n",
        "\n",
        "3. `optimizer = optim.SGD(parameters_to_optimize, lr=LR, momentum=MOMENTUM, weight_decay=WEIGHT_DECAY)`: This line defines the optimizer to be used during training. The optimizer is responsible for updating the model's parameters based on the gradients computed during backpropagation. Here, Stochastic Gradient Descent (SGD) is used with momentum and weight decay.\n",
        "\n",
        "4. `scheduler = optim.lr_scheduler.StepLR(optimizer, step_size=STEP_SIZE, gamma=GAMMA)`: This line defines a learning rate scheduler, which adjusts the learning rate during training. In this case, a step learning rate scheduler is used, which multiplies the learning rate by a factor of `gamma` every `STEP_SIZE` epochs. This is a common technique for gradually lowering the learning rate.\n",
        "\n",
        "5. `print(len(train_dataloader))`: This line prints the number of batches in the training data loader. This could be useful for understanding how many iterations of training will occur in each epoch.\n"
      ]
    },
    {
      "cell_type": "markdown",
      "metadata": {
        "id": "AxYUli9d9uYQ"
      },
      "source": [
        "##### **Train**"
      ]
    },
    {
      "cell_type": "code",
      "execution_count": 11,
      "metadata": {
        "colab": {
          "base_uri": "https://localhost:8080/"
        },
        "id": "ZcoQ5fD49yT_",
        "outputId": "37375b31-aa37-468b-b15f-8676f951bac9"
      },
      "outputs": [
        {
          "name": "stdout",
          "output_type": "stream",
          "text": [
            "Starting epoch 1/30, LR = [0.001]\n"
          ]
        },
        {
          "name": "stderr",
          "output_type": "stream",
          "text": [
            "/usr/local/lib/python3.10/dist-packages/torch/optim/lr_scheduler.py:384: UserWarning: To get the last learning rate computed by the scheduler, please use `get_last_lr()`.\n",
            "  warnings.warn(\"To get the last learning rate computed by the scheduler, \"\n"
          ]
        },
        {
          "name": "stdout",
          "output_type": "stream",
          "text": [
            "Step 0, Loss 4.624683380126953\n",
            "Step 10, Loss 4.623952865600586\n",
            "Starting epoch 2/30, LR = [0.001]\n",
            "Step 20, Loss 4.621580600738525\n",
            "Step 30, Loss 4.6180830001831055\n",
            "Starting epoch 3/30, LR = [0.001]\n",
            "Step 40, Loss 4.616403102874756\n",
            "Starting epoch 4/30, LR = [0.001]\n",
            "Step 50, Loss 4.610474109649658\n",
            "Step 60, Loss 4.608075141906738\n",
            "Starting epoch 5/30, LR = [0.001]\n",
            "Step 70, Loss 4.604423999786377\n",
            "Starting epoch 6/30, LR = [0.001]\n",
            "Step 80, Loss 4.603851318359375\n",
            "Step 90, Loss 4.595588684082031\n",
            "Starting epoch 7/30, LR = [0.001]\n",
            "Step 100, Loss 4.602916240692139\n",
            "Step 110, Loss 4.594676494598389\n",
            "Starting epoch 8/30, LR = [0.001]\n",
            "Step 120, Loss 4.590836524963379\n",
            "Starting epoch 9/30, LR = [0.001]\n",
            "Step 130, Loss 4.586788654327393\n",
            "Step 140, Loss 4.584286212921143\n",
            "Starting epoch 10/30, LR = [0.001]\n",
            "Step 150, Loss 4.588574409484863\n",
            "Starting epoch 11/30, LR = [0.001]\n",
            "Step 160, Loss 4.577280044555664\n",
            "Step 170, Loss 4.571883201599121\n",
            "Starting epoch 12/30, LR = [0.001]\n",
            "Step 180, Loss 4.567081928253174\n",
            "Step 190, Loss 4.5717387199401855\n",
            "Starting epoch 13/30, LR = [0.001]\n",
            "Step 200, Loss 4.554597854614258\n",
            "Starting epoch 14/30, LR = [0.001]\n",
            "Step 210, Loss 4.556326389312744\n",
            "Step 220, Loss 4.542419910430908\n",
            "Starting epoch 15/30, LR = [0.001]\n",
            "Step 230, Loss 4.533292293548584\n",
            "Starting epoch 16/30, LR = [0.001]\n",
            "Step 240, Loss 4.526863098144531\n",
            "Step 250, Loss 4.524240493774414\n",
            "Starting epoch 17/30, LR = [0.001]\n",
            "Step 260, Loss 4.511582374572754\n",
            "Step 270, Loss 4.447343349456787\n",
            "Starting epoch 18/30, LR = [0.001]\n",
            "Step 280, Loss 4.283551216125488\n",
            "Starting epoch 19/30, LR = [0.001]\n",
            "Step 290, Loss 4.20977783203125\n",
            "Step 300, Loss 4.260275363922119\n",
            "Starting epoch 20/30, LR = [0.001]\n",
            "Step 310, Loss 4.287527084350586\n",
            "Starting epoch 21/30, LR = [1e-05]\n",
            "Step 320, Loss 4.188066005706787\n",
            "Step 330, Loss 4.0751729011535645\n",
            "Starting epoch 22/30, LR = [0.0001]\n",
            "Step 340, Loss 4.133942604064941\n",
            "Step 350, Loss 4.387005805969238\n",
            "Starting epoch 23/30, LR = [0.0001]\n",
            "Step 360, Loss 4.2262797355651855\n",
            "Starting epoch 24/30, LR = [0.0001]\n",
            "Step 370, Loss 4.16408109664917\n",
            "Step 380, Loss 4.281027793884277\n",
            "Starting epoch 25/30, LR = [0.0001]\n",
            "Step 390, Loss 4.262241840362549\n",
            "Starting epoch 26/30, LR = [0.0001]\n",
            "Step 400, Loss 4.2197394371032715\n",
            "Step 410, Loss 4.3025922775268555\n",
            "Starting epoch 27/30, LR = [0.0001]\n",
            "Step 420, Loss 4.2115092277526855\n",
            "Step 430, Loss 4.273347854614258\n",
            "Starting epoch 28/30, LR = [0.0001]\n",
            "Step 440, Loss 4.196749210357666\n",
            "Starting epoch 29/30, LR = [0.0001]\n",
            "Step 450, Loss 4.254810810089111\n",
            "Step 460, Loss 4.128358840942383\n",
            "Starting epoch 30/30, LR = [0.0001]\n",
            "Step 470, Loss 4.254359245300293\n"
          ]
        }
      ],
      "source": [
        "# By default, everything is loaded to cpu\n",
        "net = net.to(DEVICE) # this will bring the network to GPU if DEVICE is cuda\n",
        "\n",
        "cudnn.benchmark # Calling this optimizes runtime\n",
        "\n",
        "current_step = 0\n",
        "# Start iterating over the epochs\n",
        "for epoch in range(NUM_EPOCHS):\n",
        "  print('Starting epoch {}/{}, LR = {}'.format(epoch+1, NUM_EPOCHS, scheduler.get_last_lr()))\n",
        "\n",
        "  # Iterate over the dataset\n",
        "  for images, labels in train_dataloader:\n",
        "\n",
        "    # Bring data over the device of choice\n",
        "    images = images.to(DEVICE)\n",
        "    labels = labels.to(DEVICE)\n",
        "\n",
        "    net.train() # Sets module in training mode\n",
        "\n",
        "    # PyTorch, by default, accumulates gradients after each backward pass\n",
        "    # We need to manually set the gradients to zero before starting a new iteration\n",
        "    optimizer.zero_grad() # Zero-ing the gradients\n",
        "\n",
        "    # Forward pass to the network\n",
        "    outputs = net(images)\n",
        "\n",
        "    # Compute loss based on output and ground truth\n",
        "    loss = criterion(outputs, labels)\n",
        "\n",
        "    # Log loss\n",
        "    if current_step % LOG_FREQUENCY == 0:\n",
        "      print('Step {}, Loss {}'.format(current_step, loss.item()))\n",
        "\n",
        "    # Compute gradients for each layer and update weights\n",
        "    loss.backward()  # backward pass: computes gradients\n",
        "    optimizer.step() # update weights based on accumulated gradients\n",
        "\n",
        "    current_step += 1\n",
        "\n",
        "  # Step the scheduler\n",
        "  scheduler.step()"
      ]
    },
    {
      "cell_type": "markdown",
      "metadata": {
        "id": "ITadAUDLVhNB"
      },
      "source": [
        "Training loop for the model.\n",
        "\n",
        "Breakdown of the code:\n",
        "\n",
        "1. `net = net.to(DEVICE)`: This line moves the model to the specified device. If `DEVICE` is set to 'cuda', this will move the model to the GPU.\n",
        "\n",
        "2. `cudnn.benchmark`: This line is meant to optimize the runtime by using the cuDNN auto-tuner to find the best algorithm for the hardware.\n",
        "\n",
        "3. The **outer loop** `for epoch in range(NUM_EPOCHS):` iterates over the epochs. An epoch is one complete pass through the entire training dataset.\n",
        "\n",
        "    - `print('Starting epoch {}/{}, LR = {}'.format(epoch+1, NUM_EPOCHS, scheduler.get_lr()))`: This line prints the current epoch number, total number of epochs, and current learning rate.\n",
        "\n",
        "    - The **inner loop** `for images, labels in train_dataloader:` iterates over the batches of data in the training dataset.\n",
        "\n",
        "        * `images = images.to(DEVICE)` and `labels = labels.to(DEVICE)`: These lines move the images and labels to the specified device.\n",
        "\n",
        "        * `net.train()`: This line sets the model to training mode. This is necessary because some layers, like dropout and batch normalization, behave differently during training and evaluation.\n",
        "\n",
        "        * `optimizer.zero_grad()`: This line sets the gradients of all the model parameters to zero. PyTorch accumulates gradients, so they need to be manually zeroed before each new backward pass.\n",
        "\n",
        "        * `outputs = net(images)`: This line performs the forward pass, passing the images through the model to get the outputs.\n",
        "\n",
        "        * `loss = criterion(outputs, labels)`: This line computes the loss by comparing the model's outputs to the ground truth labels.\n",
        "\n",
        "        * The `if` statement logs the loss every `LOG_FREQUENCY` steps.\n",
        "\n",
        "        * `loss.backward()`: This line performs the backward pass, computing the gradients of the loss with respect to the model parameters.\n",
        "\n",
        "        * `optimizer.step()`: This line updates the model parameters based on the gradients.\n",
        "\n",
        "    - `scheduler.step()`: This line is called after each epoch and updates the learning rate according to the learning rate scheduler.\n",
        "\n"
      ]
    },
    {
      "cell_type": "markdown",
      "metadata": {
        "id": "UsHFI-GAJd69"
      },
      "source": [
        "##### **Validation**"
      ]
    },
    {
      "cell_type": "code",
      "execution_count": 24,
      "metadata": {
        "colab": {
          "base_uri": "https://localhost:8080/"
        },
        "id": "EO3HV5pqJg1o",
        "outputId": "66d2dfc5-e68b-46ea-c8f0-f8922d38b011"
      },
      "outputs": [
        {
          "name": "stderr",
          "output_type": "stream",
          "text": [
            "100%|██████████| 6/6 [00:04<00:00,  1.29it/s]"
          ]
        },
        {
          "name": "stdout",
          "output_type": "stream",
          "text": [
            "Validation Accuracy: 0.08575380359612725\n"
          ]
        },
        {
          "name": "stderr",
          "output_type": "stream",
          "text": [
            "\n"
          ]
        }
      ],
      "source": [
        "net = net.to(DEVICE) # this will bring the network to GPU if DEVICE is cuda\n",
        "net.train(False) # Set Network to evaluation mode\n",
        "\n",
        "running_corrects = 0\n",
        "for images, labels in tqdm(val_dataloader):\n",
        "  images = images.to(DEVICE)\n",
        "  labels = labels.to(DEVICE)\n",
        "\n",
        "  # Forward Pass\n",
        "  outputs = net(images)\n",
        "\n",
        "  # Get predictions\n",
        "  _, preds = torch.max(outputs.data, 1)\n",
        "\n",
        "  # Update Corrects\n",
        "  running_corrects += torch.sum(preds == labels.data).data.item()\n",
        "\n",
        "# Calculate Accuracy\n",
        "accuracy = running_corrects / float(len(val_dataset))\n",
        "\n",
        "print('Validation Accuracy: {}'.format(accuracy))"
      ]
    },
    {
      "cell_type": "markdown",
      "metadata": {
        "id": "jxekmR745ySe"
      },
      "source": [
        "##### **Test**"
      ]
    },
    {
      "cell_type": "code",
      "execution_count": 25,
      "metadata": {
        "colab": {
          "base_uri": "https://localhost:8080/"
        },
        "id": "fSHcUqLB5yWO",
        "outputId": "60f9caf5-7317-4b37-c618-46c374f5ab70"
      },
      "outputs": [
        {
          "name": "stderr",
          "output_type": "stream",
          "text": [
            "100%|██████████| 12/12 [00:10<00:00,  1.11it/s]"
          ]
        },
        {
          "name": "stdout",
          "output_type": "stream",
          "text": [
            "Test Accuracy: 0.09194607673695127\n"
          ]
        },
        {
          "name": "stderr",
          "output_type": "stream",
          "text": [
            "\n"
          ]
        }
      ],
      "source": [
        "net = net.to(DEVICE) # this will bring the network to GPU if DEVICE is cuda\n",
        "net.train(False) # Set Network to evaluation mode\n",
        "\n",
        "running_corrects = 0\n",
        "for images, labels in tqdm(test_dataloader):\n",
        "  images = images.to(DEVICE)\n",
        "  labels = labels.to(DEVICE)\n",
        "\n",
        "  # Forward Pass\n",
        "  outputs = net(images)\n",
        "\n",
        "  # Get predictions\n",
        "  _, preds = torch.max(outputs.data, 1)\n",
        "\n",
        "  # Update Corrects\n",
        "  running_corrects += torch.sum(preds == labels.data).data.item()\n",
        "\n",
        "# Calculate Accuracy\n",
        "accuracy = running_corrects / float(len(test_dataset))\n",
        "\n",
        "print('Test Accuracy: {}'.format(accuracy))"
      ]
    }
  ],
  "metadata": {
    "accelerator": "GPU",
    "colab": {
      "gpuType": "T4",
      "provenance": []
    },
    "kernelspec": {
      "display_name": "Python 3",
      "name": "python3"
    },
    "language_info": {
      "codemirror_mode": {
        "name": "ipython",
        "version": 3
      },
      "file_extension": ".py",
      "mimetype": "text/x-python",
      "name": "python",
      "nbconvert_exporter": "python",
      "pygments_lexer": "ipython3",
      "version": "3.10.12"
    }
  },
  "nbformat": 4,
  "nbformat_minor": 0
}
